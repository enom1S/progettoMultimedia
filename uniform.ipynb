{
 "cells": [
  {
   "cell_type": "code",
   "execution_count": 2,
   "id": "ab351dda-787d-4d6f-921b-943888796736",
   "metadata": {
    "tags": []
   },
   "outputs": [],
   "source": [
    "import cv2\n",
    "import numpy as np\n",
    "from skimage import img_as_ubyte\n",
    "\n",
    "def add_uniform_noise(img, a=0, b=0.8):\n",
    "    img = img / 255.0\n",
    "    x, y, z = img.shape\n",
    "    n = np.random.uniform(a, b, (x, y, z))\n",
    "    noise_img = img + n\n",
    "    noise_img = np.clip(noise_img, 0, 1) \n",
    "    return img_as_ubyte(noise_img)\n",
    "\n",
    "percorso_immagine_originale = \"kurt.jpg\"\n",
    "immagine_originale = cv2.imread(percorso_immagine_originale)\n",
    "if immagine_originale is None:\n",
    "    print(f\"Errore: impossibile leggere l'immagine {percorso_immagine_originale}\")\n",
    "else: \n",
    "    immagine_con_rumore = add_uniform_noise(immagine_originale)\n",
    "    if immagine_con_rumore is None:\n",
    "        print(f\"Errore: impossibile elaborare l'immagine {percorso_immagine_originale}\")\n",
    "    else:\n",
    "        cv2.imwrite(\"kurt_con_rumore_uniforme.jpg\", immagine_con_rumore)\n"
   ]
  },
  {
   "cell_type": "code",
   "execution_count": 7,
   "id": "26a71363-466e-42a0-8025-f45ab9315add",
   "metadata": {
    "tags": []
   },
   "outputs": [],
   "source": [
    "img = cv2.imread(\"genova.jpg\")\n",
    "resized = cv2.resize(img, (0, 0), fx=0.2, fy=0.2)\n",
    "resized = resized/255"
   ]
  },
  {
   "cell_type": "code",
   "execution_count": 8,
   "id": "7b55d48b-0a7c-442d-8ef4-a892b4765388",
   "metadata": {
    "tags": []
   },
   "outputs": [],
   "source": [
    "cv2.imshow(\"originale\", resized)\n",
    "cv2.waitKey(0)\n",
    "cv2.destroyAllWindows()"
   ]
  },
  {
   "cell_type": "code",
   "execution_count": 21,
   "id": "627b0844-7830-4df4-83a0-d0fdc723b0cd",
   "metadata": {
    "tags": []
   },
   "outputs": [],
   "source": [
    "x, y , z = resized.shape\n",
    "a = 0\n",
    "b= 1\n",
    "n = np.zeros((x,y,z), dtype=np.float64)"
   ]
  },
  {
   "cell_type": "code",
   "execution_count": 22,
   "id": "87b4d183-2b73-42b1-91a3-169f73d4f86b",
   "metadata": {
    "tags": []
   },
   "outputs": [],
   "source": [
    "for i in range(x):\n",
    "    for j in range(y):\n",
    "        for k in range(z):\n",
    "            n[i][j][k] = np.random.uniform(a,b)"
   ]
  },
  {
   "cell_type": "code",
   "execution_count": 23,
   "id": "6cb78575-7364-4797-ab98-24e115c099aa",
   "metadata": {
    "tags": []
   },
   "outputs": [],
   "source": [
    "cv2.imshow(\"rumore\", n)\n",
    "cv2.waitKey(0)\n",
    "cv2.destroyAllWindows()"
   ]
  },
  {
   "cell_type": "code",
   "execution_count": 24,
   "id": "1acdae64-6c69-49c9-956d-1f0d00aa8535",
   "metadata": {
    "tags": []
   },
   "outputs": [],
   "source": [
    "noise_img = resized + n\n",
    "noise_img = np.clip(noise_img, 0, 256)"
   ]
  },
  {
   "cell_type": "code",
   "execution_count": null,
   "id": "a801fd38-b3ab-4caf-8221-4012aad888c9",
   "metadata": {
    "tags": []
   },
   "outputs": [],
   "source": [
    "cv2.imshow(\"immagine con rumore:\", noise_img)\n",
    "cv2.imshow(\"originale\", resized)\n",
    "cv2.waitKey(0)\n",
    "cv2.destroyAllWindows()"
   ]
  },
  {
   "cell_type": "code",
   "execution_count": null,
   "id": "b53a0108-8e8c-494f-a86f-4dc602d63b9e",
   "metadata": {},
   "outputs": [],
   "source": []
  }
 ],
 "metadata": {
  "kernelspec": {
   "display_name": "Python 3 (ipykernel)",
   "language": "python",
   "name": "python3"
  },
  "language_info": {
   "codemirror_mode": {
    "name": "ipython",
    "version": 3
   },
   "file_extension": ".py",
   "mimetype": "text/x-python",
   "name": "python",
   "nbconvert_exporter": "python",
   "pygments_lexer": "ipython3",
   "version": "3.11.5"
  }
 },
 "nbformat": 4,
 "nbformat_minor": 5
}
