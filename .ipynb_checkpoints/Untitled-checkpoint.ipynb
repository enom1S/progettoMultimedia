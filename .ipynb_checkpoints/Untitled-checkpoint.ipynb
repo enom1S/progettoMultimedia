{
 "cells": [
  {
   "cell_type": "code",
   "execution_count": 1,
   "id": "5f8db347-6dfa-4d36-b151-59f530d6667f",
   "metadata": {
    "tags": []
   },
   "outputs": [
    {
     "ename": "KeyboardInterrupt",
     "evalue": "",
     "output_type": "error",
     "traceback": [
      "\u001b[1;31m---------------------------------------------------------------------------\u001b[0m",
      "\u001b[1;31mKeyboardInterrupt\u001b[0m                         Traceback (most recent call last)",
      "Cell \u001b[1;32mIn[1], line 32\u001b[0m\n\u001b[0;32m     30\u001b[0m     \u001b[38;5;28mprint\u001b[39m(\u001b[38;5;124mf\u001b[39m\u001b[38;5;124m\"\u001b[39m\u001b[38;5;124mErrore: impossibile leggere l\u001b[39m\u001b[38;5;124m'\u001b[39m\u001b[38;5;124mimmagine \u001b[39m\u001b[38;5;132;01m{\u001b[39;00mpercorso_immagine_originale\u001b[38;5;132;01m}\u001b[39;00m\u001b[38;5;124m\"\u001b[39m)\n\u001b[0;32m     31\u001b[0m \u001b[38;5;28;01melse\u001b[39;00m: \n\u001b[1;32m---> 32\u001b[0m     immagine_con_rumore \u001b[38;5;241m=\u001b[39m add_uniform_noise(immagine_originale)\n\u001b[0;32m     33\u001b[0m     \u001b[38;5;28;01mif\u001b[39;00m immagine_con_rumore \u001b[38;5;129;01mis\u001b[39;00m \u001b[38;5;28;01mNone\u001b[39;00m:\n\u001b[0;32m     34\u001b[0m         \u001b[38;5;28mprint\u001b[39m(\u001b[38;5;124mf\u001b[39m\u001b[38;5;124m\"\u001b[39m\u001b[38;5;124mErrore: impossibile elaborare l\u001b[39m\u001b[38;5;124m'\u001b[39m\u001b[38;5;124mimmagine \u001b[39m\u001b[38;5;132;01m{\u001b[39;00mpercorso_immagine_originale\u001b[38;5;132;01m}\u001b[39;00m\u001b[38;5;124m\"\u001b[39m)\n",
      "Cell \u001b[1;32mIn[1], line 15\u001b[0m, in \u001b[0;36madd_uniform_noise\u001b[1;34m(img, a, b)\u001b[0m\n\u001b[0;32m     13\u001b[0m     \u001b[38;5;28;01mfor\u001b[39;00m j \u001b[38;5;129;01min\u001b[39;00m \u001b[38;5;28mrange\u001b[39m(y):\n\u001b[0;32m     14\u001b[0m         \u001b[38;5;28;01mfor\u001b[39;00m k \u001b[38;5;129;01min\u001b[39;00m \u001b[38;5;28mrange\u001b[39m(z):\n\u001b[1;32m---> 15\u001b[0m             n[i][j][k] \u001b[38;5;241m=\u001b[39m np\u001b[38;5;241m.\u001b[39mrandom\u001b[38;5;241m.\u001b[39muniform(a,b)\n\u001b[0;32m     16\u001b[0m noise_img \u001b[38;5;241m=\u001b[39m resized \u001b[38;5;241m+\u001b[39m n\n\u001b[0;32m     17\u001b[0m noise_img \u001b[38;5;241m=\u001b[39m np\u001b[38;5;241m.\u001b[39mclip(noise_img, \u001b[38;5;241m0\u001b[39m, \u001b[38;5;241m1\u001b[39m)\n",
      "\u001b[1;31mKeyboardInterrupt\u001b[0m: "
     ]
    }
   ],
   "source": [
    "import os\n",
    "import cv2\n",
    "import numpy as np\n",
    "import matplotlib.pyplot as plt\n",
    "from skimage import img_as_ubyte\n",
    "\n",
    "def add_uniform_noise(img, a=0, b=0.8):\n",
    "    resized = cv2.resize(img, (0, 0), fx=0.2, fy=0.2)\n",
    "    resized = resized / 255.0\n",
    "    x, y, z = resized.shape\n",
    "    n = np.random.uniform(a, b, (x, y, z))\n",
    "    noise_img = resized + n\n",
    "    noise_img = np.clip(noise_img, 0, 1)  # Clip tra 0 e 1\n",
    "    return img_as_ubyte(noise_img)\n",
    "\n",
    "directory_immagini_originali = \"C:/Users/sgarr/Desktop/progettoMultimedia_v2/immagini/immagini_rumore_uniforme\"\n",
    "\n",
    "# Percorso della directory in cui salvare le immagini con rumore\n",
    "directory_immagini_con_rumore = \"C:/Users/sgarr/Desktop/progettoMultimedia_v2/immagini_v2/immagini_rumorose_uniforme_v2\"\n",
    "\n",
    "for filename in os.listdir(directory_immagini_originali):\n",
    "    # Carica l'immagine originale\n",
    "    percorso_immagine_originale = os.path.join(directory_immagini_originali, filename)\n",
    "    immagine_originale = cv2.imread(percorso_immagine_originale)\n",
    "    if immagine_originale is None:\n",
    "        print(f\"Errore: impossibile leggere l'immagine {percorso_immagine_originale}\")\n",
    "    else: \n",
    "        immagine_con_rumore = add_uniform_noise(immagine_originale)\n",
    "        if immagine_con_rumore is None:\n",
    "            print(f\"Errore: impossibile elaborare l'immagine {percorso_immagine_originale}\")\n",
    "        else:\n",
    "            if not os.path.exists(directory_immagini_con_rumore):\n",
    "                os.makedirs(directory_immagini_con_rumore)\n",
    "            percorso_immagine_con_rumore = os.path.join(directory_immagini_con_rumore, filename)\n",
    "            cv2.imwrite(percorso_immagine_con_rumore, immagine_con_rumore)"
   ]
  },
  {
   "cell_type": "code",
   "execution_count": null,
   "id": "7e216c7b-70d4-4a9d-ba05-3162eab5f49d",
   "metadata": {
    "tags": []
   },
   "outputs": [],
   "source": [
    "img = cv2.imread(\"genova.jpg\")\n",
    "resized = cv2.resize(img, (0, 0), fx=0.2, fy=0.2)\n",
    "noise = add_uniform_noise(img)\n",
    "\n",
    "cv2.imshow(\"immagine con rumore:\", noise)\n",
    "cv2.imshow(\"originale\", resized)\n",
    "cv2.waitKey(0)\n",
    "cv2.destroyAllWindows()"
   ]
  },
  {
   "cell_type": "code",
   "execution_count": null,
   "id": "3cb64b39-021e-42ab-bd61-a0b5284cbbb5",
   "metadata": {},
   "outputs": [],
   "source": []
  }
 ],
 "metadata": {
  "kernelspec": {
   "display_name": "Python 3 (ipykernel)",
   "language": "python",
   "name": "python3"
  },
  "language_info": {
   "codemirror_mode": {
    "name": "ipython",
    "version": 3
   },
   "file_extension": ".py",
   "mimetype": "text/x-python",
   "name": "python",
   "nbconvert_exporter": "python",
   "pygments_lexer": "ipython3",
   "version": "3.11.5"
  }
 },
 "nbformat": 4,
 "nbformat_minor": 5
}
